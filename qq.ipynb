{
 "cells": [
  {
   "cell_type": "code",
   "execution_count": 26,
   "id": "6a5677f1-4eb2-4135-b943-a5773babc75c",
   "metadata": {},
   "outputs": [],
   "source": [
    "#입력예시 2, json이 아닌 문자열 출력, 리스트로 값을 받음\n",
    "import pandas as pd\n",
    "from tqdm import tqdm\n",
    "import random\n",
    "import os\n",
    "from datetime import datetime\n",
    "import numpy as np\n",
    "import torch\n",
    "import torch.nn as nn\n",
    "import itertools\n",
    "\n",
    "import FinanceDataReader as fdr\n",
    "import pandas_market_calendars as mcal\n",
    "import random\n",
    "import sys\n",
    "\n",
    "# sys.argv를 사용하여 종목 이름들을 리스트로 받음\n",
    "selected_companies_names = sys.argv[1:4]\n",
    "\n",
    "df_krx = fdr.StockListing('KRX')\n",
    "\n",
    "from datetime import datetime\n",
    "import pandas as pd\n",
    "import FinanceDataReader as fdr\n",
    "\n",
    "# 현재 날짜를 사용\n",
    "current_date = datetime.now().strftime('%Y%m%d')\n",
    "start_date = pd.to_datetime(current_date) - pd.DateOffset(years=1)\n",
    "\n",
    "# 종목 이름을 종목 코드로 변환하고 등락률을 저장할 데이터프레임 초기화\n",
    "df_returns = pd.DataFrame()\n",
    "df_close_price = pd.DataFrame()\n",
    "\n",
    "# 각 종목에 대해 데이터 불러오고 등락률 가져오기\n",
    "for company_name in selected_companies_names:\n",
    "    # 종목 코드 가져오기\n",
    "    try:\n",
    "        company_code = df_krx[df_krx['Name'] == company_name]['Code'].values[0]\n",
    "        df_stock = fdr.DataReader(company_code, start_date, current_date)\n",
    "        df_returns[company_name] = df_stock['Change']\n",
    "        df_close_price[company_name] = df_stock['Close']\n",
    "    except IndexError:\n",
    "        pass\n",
    "        \n",
    "# 결과를 출력 (JSON 형식이 아닌 일반 문자열)\n",
    "#print(df_returns.to_string())"
   ]
  },
  {
   "cell_type": "code",
   "execution_count": 27,
   "id": "d34fc837-5974-4407-b944-87bad62bdc42",
   "metadata": {},
   "outputs": [],
   "source": [
    "daily_stock_average_d = []\n",
    "average_returns = df_returns.mean()\n",
    "average_returns = average_returns * len(df_returns)\n",
    "for value in average_returns:\n",
    "    daily_stock_average_d.append(value)"
   ]
  },
  {
   "cell_type": "code",
   "execution_count": 28,
   "id": "8bc0a2b6-efd7-4924-9057-fcf3008ceab9",
   "metadata": {},
   "outputs": [],
   "source": [
    "personal_stock_v = []\n",
    "std_dev = df_returns.std()\n",
    "total_days = len(df_returns)\n",
    "volatility = std_dev * (total_days ** 0.5)\n",
    "for value in volatility:\n",
    "    personal_stock_v.append(value)"
   ]
  },
  {
   "cell_type": "code",
   "execution_count": 29,
   "id": "a2d6b01f-bb0f-4b7d-aa2f-fd929bc227bb",
   "metadata": {},
   "outputs": [],
   "source": [
    "#df_close_price"
   ]
  },
  {
   "cell_type": "code",
   "execution_count": 30,
   "id": "f6c5ed14-4479-438d-98e2-f26590559f52",
   "metadata": {},
   "outputs": [
    {
     "ename": "KeyError",
     "evalue": "'-f'",
     "output_type": "error",
     "traceback": [
      "\u001b[1;31m---------------------------------------------------------------------------\u001b[0m",
      "\u001b[1;31mKeyError\u001b[0m                                  Traceback (most recent call last)",
      "Cell \u001b[1;32mIn[30], line 1\u001b[0m\n\u001b[1;32m----> 1\u001b[0m p12_correlation \u001b[38;5;241m=\u001b[39m \u001b[43mdf_close_price\u001b[49m\u001b[43m[\u001b[49m\u001b[43mselected_companies_names\u001b[49m\u001b[43m[\u001b[49m\u001b[38;5;241;43m0\u001b[39;49m\u001b[43m]\u001b[49m\u001b[43m]\u001b[49m\u001b[38;5;241m.\u001b[39mcorr(df_close_price[selected_companies_names[\u001b[38;5;241m1\u001b[39m]])\n\u001b[0;32m      2\u001b[0m p13_correlation \u001b[38;5;241m=\u001b[39m df_close_price[selected_companies_names[\u001b[38;5;241m0\u001b[39m]]\u001b[38;5;241m.\u001b[39mcorr(df_close_price[selected_companies_names[\u001b[38;5;241m2\u001b[39m]])\n\u001b[0;32m      3\u001b[0m p23_correlation \u001b[38;5;241m=\u001b[39m df_close_price[selected_companies_names[\u001b[38;5;241m1\u001b[39m]]\u001b[38;5;241m.\u001b[39mcorr(df_close_price[selected_companies_names[\u001b[38;5;241m2\u001b[39m]])\n",
      "File \u001b[1;32m~\\AppData\\Local\\Programs\\Python\\Python312\\Lib\\site-packages\\pandas\\core\\frame.py:4102\u001b[0m, in \u001b[0;36mDataFrame.__getitem__\u001b[1;34m(self, key)\u001b[0m\n\u001b[0;32m   4100\u001b[0m \u001b[38;5;28;01mif\u001b[39;00m \u001b[38;5;28mself\u001b[39m\u001b[38;5;241m.\u001b[39mcolumns\u001b[38;5;241m.\u001b[39mnlevels \u001b[38;5;241m>\u001b[39m \u001b[38;5;241m1\u001b[39m:\n\u001b[0;32m   4101\u001b[0m     \u001b[38;5;28;01mreturn\u001b[39;00m \u001b[38;5;28mself\u001b[39m\u001b[38;5;241m.\u001b[39m_getitem_multilevel(key)\n\u001b[1;32m-> 4102\u001b[0m indexer \u001b[38;5;241m=\u001b[39m \u001b[38;5;28;43mself\u001b[39;49m\u001b[38;5;241;43m.\u001b[39;49m\u001b[43mcolumns\u001b[49m\u001b[38;5;241;43m.\u001b[39;49m\u001b[43mget_loc\u001b[49m\u001b[43m(\u001b[49m\u001b[43mkey\u001b[49m\u001b[43m)\u001b[49m\n\u001b[0;32m   4103\u001b[0m \u001b[38;5;28;01mif\u001b[39;00m is_integer(indexer):\n\u001b[0;32m   4104\u001b[0m     indexer \u001b[38;5;241m=\u001b[39m [indexer]\n",
      "File \u001b[1;32m~\\AppData\\Local\\Programs\\Python\\Python312\\Lib\\site-packages\\pandas\\core\\indexes\\range.py:417\u001b[0m, in \u001b[0;36mRangeIndex.get_loc\u001b[1;34m(self, key)\u001b[0m\n\u001b[0;32m    415\u001b[0m         \u001b[38;5;28;01mraise\u001b[39;00m \u001b[38;5;167;01mKeyError\u001b[39;00m(key) \u001b[38;5;28;01mfrom\u001b[39;00m \u001b[38;5;21;01merr\u001b[39;00m\n\u001b[0;32m    416\u001b[0m \u001b[38;5;28;01mif\u001b[39;00m \u001b[38;5;28misinstance\u001b[39m(key, Hashable):\n\u001b[1;32m--> 417\u001b[0m     \u001b[38;5;28;01mraise\u001b[39;00m \u001b[38;5;167;01mKeyError\u001b[39;00m(key)\n\u001b[0;32m    418\u001b[0m \u001b[38;5;28mself\u001b[39m\u001b[38;5;241m.\u001b[39m_check_indexing_error(key)\n\u001b[0;32m    419\u001b[0m \u001b[38;5;28;01mraise\u001b[39;00m \u001b[38;5;167;01mKeyError\u001b[39;00m(key)\n",
      "\u001b[1;31mKeyError\u001b[0m: '-f'"
     ]
    }
   ],
   "source": [
    "p12_correlation = df_close_price[selected_companies_names[0]].corr(df_close_price[selected_companies_names[1]])\n",
    "p13_correlation = df_close_price[selected_companies_names[0]].corr(df_close_price[selected_companies_names[2]])\n",
    "p23_correlation = df_close_price[selected_companies_names[1]].corr(df_close_price[selected_companies_names[2]])"
   ]
  },
  {
   "cell_type": "code",
   "execution_count": 31,
   "id": "02691aa0-f31a-4ea2-b397-2b57a35c993f",
   "metadata": {},
   "outputs": [
    {
     "ename": "NameError",
     "evalue": "name 'p12_correlation' is not defined",
     "output_type": "error",
     "traceback": [
      "\u001b[1;31m---------------------------------------------------------------------------\u001b[0m",
      "\u001b[1;31mNameError\u001b[0m                                 Traceback (most recent call last)",
      "Cell \u001b[1;32mIn[31], line 2\u001b[0m\n\u001b[0;32m      1\u001b[0m stock_corr \u001b[38;5;241m=\u001b[39m []\n\u001b[1;32m----> 2\u001b[0m stock_corr\u001b[38;5;241m.\u001b[39mappend(\u001b[43mp12_correlation\u001b[49m)\n\u001b[0;32m      3\u001b[0m stock_corr\u001b[38;5;241m.\u001b[39mappend(p13_correlation)\n\u001b[0;32m      4\u001b[0m stock_corr\u001b[38;5;241m.\u001b[39mappend(p23_correlation)\n",
      "\u001b[1;31mNameError\u001b[0m: name 'p12_correlation' is not defined"
     ]
    }
   ],
   "source": [
    "stock_corr = []\n",
    "stock_corr.append(p12_correlation)\n",
    "stock_corr.append(p13_correlation)\n",
    "stock_corr.append(p23_correlation)"
   ]
  },
  {
   "cell_type": "code",
   "execution_count": 32,
   "id": "22bb0916-8c9b-4f21-a810-9d96256810ba",
   "metadata": {},
   "outputs": [],
   "source": [
    "def find_combinations():\n",
    "    possible_values = [i / 100 for i in range(101)] # 0부터 1까지 0.01 간격으로 조합 추출\n",
    "    combinations = itertools.product(possible_values, repeat=3)\n",
    "\n",
    "    valid_combinations = []\n",
    "    valid_indices = []\n",
    "\n",
    "    for i, combo in enumerate(combinations):\n",
    "        if round(sum(combo), 2) == 1.0 and all(0.1 <= x <= 0.7 for x in combo): # 최대 0.7, 최소 0.1은 가지는 조합만 추출\n",
    "            valid_combinations.append(combo)\n",
    "            valid_indices.append(i)\n",
    "\n",
    "    return valid_combinations, valid_indices\n",
    "\n",
    "result, valid_indices = find_combinations()"
   ]
  },
  {
   "cell_type": "code",
   "execution_count": 33,
   "id": "5078b471-c028-48bc-9649-3afa14f2f4ab",
   "metadata": {},
   "outputs": [],
   "source": [
    "port_returns = []\n",
    "\n",
    "for combo in result:\n",
    "    port_return = sum(x * er for x, er in zip(combo, daily_stock_average_d))\n",
    "    port_returns.append(port_return)"
   ]
  },
  {
   "cell_type": "code",
   "execution_count": 38,
   "id": "73140a91-4b32-4372-a8bf-5009cbc13579",
   "metadata": {},
   "outputs": [],
   "source": [
    "#국채\n",
    "from pykrx import bond\n",
    "\n",
    "# 사용자에게 날짜를 입력받음\n",
    "date = current_date\n",
    "\n",
    "# 입력받은 날짜로 데이터프레임 생성\n",
    "df = bond.get_otc_treasury_yields(date)\n",
    "\n",
    "# 국고채 3년의 수익률 데이터만 추출하여 출력\n",
    "kukko_3year_yield = df.loc['국고채 3년', '수익률'] / 100\n",
    "formatted_yield = f\"{kukko_3year_yield:.3f}\"  # 소수점 셋째 자리까지 출력\n"
   ]
  },
  {
   "cell_type": "code",
   "execution_count": 35,
   "id": "de3eac84-b45e-4e9c-997e-ffa3e71f3ab7",
   "metadata": {},
   "outputs": [
    {
     "ename": "IndexError",
     "evalue": "list index out of range",
     "output_type": "error",
     "traceback": [
      "\u001b[1;31m---------------------------------------------------------------------------\u001b[0m",
      "\u001b[1;31mIndexError\u001b[0m                                Traceback (most recent call last)",
      "Cell \u001b[1;32mIn[35], line 11\u001b[0m\n\u001b[0;32m      9\u001b[0m         idx \u001b[38;5;241m=\u001b[39m i \u001b[38;5;241m*\u001b[39m (\u001b[38;5;28mlen\u001b[39m(combo) \u001b[38;5;241m-\u001b[39m \u001b[38;5;241m1\u001b[39m) \u001b[38;5;241m+\u001b[39m j \u001b[38;5;241m-\u001b[39m \u001b[38;5;241m1\u001b[39m\n\u001b[0;32m     10\u001b[0m         corr_idx \u001b[38;5;241m=\u001b[39m \u001b[38;5;28mmin\u001b[39m(idx, \u001b[38;5;241m2\u001b[39m)\n\u001b[1;32m---> 11\u001b[0m         term2 \u001b[38;5;241m+\u001b[39m\u001b[38;5;241m=\u001b[39m \u001b[38;5;241m2\u001b[39m \u001b[38;5;241m*\u001b[39m combo[i] \u001b[38;5;241m*\u001b[39m combo[j] \u001b[38;5;241m*\u001b[39m \u001b[43mpersonal_stock_v\u001b[49m\u001b[43m[\u001b[49m\u001b[43mi\u001b[49m\u001b[43m]\u001b[49m \u001b[38;5;241m*\u001b[39m personal_stock_v[j] \u001b[38;5;241m*\u001b[39m stock_corr[corr_idx]\n\u001b[0;32m     13\u001b[0m port_volatility \u001b[38;5;241m=\u001b[39m (term1 \u001b[38;5;241m+\u001b[39m term2) \u001b[38;5;241m*\u001b[39m\u001b[38;5;241m*\u001b[39m \u001b[38;5;241m0.5\u001b[39m\n\u001b[0;32m     14\u001b[0m port_vol\u001b[38;5;241m.\u001b[39mappend(port_volatility)\n",
      "\u001b[1;31mIndexError\u001b[0m: list index out of range"
     ]
    }
   ],
   "source": [
    "port_vol = []\n",
    "\n",
    "for combo in result:\n",
    "    term1 = sum(x ** 2 * sigma ** 2 for x, sigma in zip(combo, personal_stock_v))\n",
    "    term2 = 0\n",
    "\n",
    "    for i in range(len(combo) - 1):\n",
    "        for j in range(i + 1, len(combo)):\n",
    "            idx = i * (len(combo) - 1) + j - 1\n",
    "            corr_idx = min(idx, 2)\n",
    "            term2 += 2 * combo[i] * combo[j] * personal_stock_v[i] * personal_stock_v[j] * stock_corr[corr_idx]\n",
    "\n",
    "    port_volatility = (term1 + term2) ** 0.5\n",
    "    port_vol.append(port_volatility)"
   ]
  },
  {
   "cell_type": "code",
   "execution_count": 36,
   "id": "ee80f096-56bf-4ce1-90f2-ba212806b76d",
   "metadata": {},
   "outputs": [
    {
     "ename": "NameError",
     "evalue": "name 'government_bond' is not defined",
     "output_type": "error",
     "traceback": [
      "\u001b[1;31m---------------------------------------------------------------------------\u001b[0m",
      "\u001b[1;31mNameError\u001b[0m                                 Traceback (most recent call last)",
      "Cell \u001b[1;32mIn[36], line 2\u001b[0m\n\u001b[0;32m      1\u001b[0m \u001b[38;5;66;03m# government_bond = Rf\u001b[39;00m\n\u001b[1;32m----> 2\u001b[0m Rf \u001b[38;5;241m=\u001b[39m \u001b[38;5;28mfloat\u001b[39m(\u001b[43mgovernment_bond\u001b[49m)\n\u001b[0;32m      3\u001b[0m Cal_values \u001b[38;5;241m=\u001b[39m []\n\u001b[0;32m      5\u001b[0m \u001b[38;5;66;03m# port_returns_numeric = [float(val) for val in port_returns]\u001b[39;00m\n",
      "\u001b[1;31mNameError\u001b[0m: name 'government_bond' is not defined"
     ]
    }
   ],
   "source": [
    "# government_bond = Rf\n",
    "Rf = float(government_bond)\n",
    "Cal_values = []\n",
    "\n",
    "# port_returns_numeric = [float(val) for val in port_returns]\n",
    "\n",
    "for i in range(len(port_returns)):\n",
    "    Cal = (port_returns[i] - Rf) / port_vol[i]\n",
    "    Cal_values.append(Cal)"
   ]
  },
  {
   "cell_type": "code",
   "execution_count": 37,
   "id": "8d608950-5642-4f12-8067-2e72dac5077a",
   "metadata": {},
   "outputs": [
    {
     "ename": "NameError",
     "evalue": "name 'Cal_values' is not defined",
     "output_type": "error",
     "traceback": [
      "\u001b[1;31m---------------------------------------------------------------------------\u001b[0m",
      "\u001b[1;31mNameError\u001b[0m                                 Traceback (most recent call last)",
      "Cell \u001b[1;32mIn[37], line 1\u001b[0m\n\u001b[1;32m----> 1\u001b[0m max_cal_value \u001b[38;5;241m=\u001b[39m \u001b[38;5;28mmax\u001b[39m(\u001b[43mCal_values\u001b[49m)\n\u001b[0;32m      2\u001b[0m max_cal_index \u001b[38;5;241m=\u001b[39m Cal_values\u001b[38;5;241m.\u001b[39mindex(max_cal_value)\n\u001b[0;32m      3\u001b[0m max_result \u001b[38;5;241m=\u001b[39m result[max_cal_index]\n",
      "\u001b[1;31mNameError\u001b[0m: name 'Cal_values' is not defined"
     ]
    }
   ],
   "source": [
    "max_cal_value = max(Cal_values)\n",
    "max_cal_index = Cal_values.index(max_cal_value)\n",
    "max_result = result[max_cal_index]"
   ]
  },
  {
   "cell_type": "code",
   "execution_count": 39,
   "id": "cf6b1b21-4d4d-4e0b-a2c0-6e4cffc82b0a",
   "metadata": {},
   "outputs": [
    {
     "ename": "IndexError",
     "evalue": "list index out of range",
     "output_type": "error",
     "traceback": [
      "\u001b[1;31m---------------------------------------------------------------------------\u001b[0m",
      "\u001b[1;31mIndexError\u001b[0m                                Traceback (most recent call last)",
      "Cell \u001b[1;32mIn[39], line 1\u001b[0m\n\u001b[1;32m----> 1\u001b[0m Investment \u001b[38;5;241m=\u001b[39m \u001b[38;5;28mint\u001b[39m(\u001b[43msys\u001b[49m\u001b[38;5;241;43m.\u001b[39;49m\u001b[43margv\u001b[49m\u001b[43m[\u001b[49m\u001b[38;5;241;43m4\u001b[39;49m\u001b[43m]\u001b[49m)\n\u001b[0;32m      2\u001b[0m danger \u001b[38;5;241m=\u001b[39m \u001b[38;5;28mint\u001b[39m(sys\u001b[38;5;241m.\u001b[39margv[\u001b[38;5;241m5\u001b[39m])\n\u001b[0;32m      3\u001b[0m \u001b[38;5;66;03m#고위험 = sys.argv[5] = 7, 중위험 = sys.argv[5] = 5, 저위험 = sys.argv[5] = 3\u001b[39;00m\n",
      "\u001b[1;31mIndexError\u001b[0m: list index out of range"
     ]
    }
   ],
   "source": [
    "Investment = int(sys.argv[4])\n",
    "danger = int(sys.argv[5])\n",
    "#고위험 = sys.argv[5] = 7, 중위험 = sys.argv[5] = 5, 저위험 = sys.argv[5] = 3\n",
    "\n",
    "invest_amount = []\n",
    "real_invest = (Investment * (danger * 0.1))\n",
    "rf = Investment - real_invest\n",
    "for i in range(len(max_result)):\n",
    "  price = real_invest * max_result[i]\n",
    "  invest_amount.append(price)\n",
    "\n",
    "print(\"총 투자 금액 : {:,.0f}\".format(Investment))\n",
    "print(\"rf : {:,.0f}\".format(rf))\n",
    "for i in range(len(selected_companies_names)):\n",
    "  print(\"{} 투자 금액: {:,.0f}\".format(selected_companies_names[i], invest_amount[i]))\n",
    "\n",
    "\n",
    "\n",
    "#sys.argv[1:4] = 주식종목 3개\n",
    "#sys.argv[4] = 총투자금액 (total)\n",
    "#sys.argv[5] = 고위험,중위험,저위험 \n",
    "#selected_companies_names = sys.argv[1:4]\n",
    "#Investment = int(sys.argv[4])\n",
    "#danger = sys.argv[5] = 7, 중위험 = sys.argv[5] = 5, 저위험 = sys.argv[5] = 3"
   ]
  },
  {
   "cell_type": "code",
   "execution_count": null,
   "id": "f58e7e42-6ed3-40f1-b90b-84c90d3f5f15",
   "metadata": {},
   "outputs": [],
   "source": []
  }
 ],
 "metadata": {
  "kernelspec": {
   "display_name": "Python 3 (ipykernel)",
   "language": "python",
   "name": "python3"
  },
  "language_info": {
   "codemirror_mode": {
    "name": "ipython",
    "version": 3
   },
   "file_extension": ".py",
   "mimetype": "text/x-python",
   "name": "python",
   "nbconvert_exporter": "python",
   "pygments_lexer": "ipython3",
   "version": "3.12.4"
  }
 },
 "nbformat": 4,
 "nbformat_minor": 5
}
